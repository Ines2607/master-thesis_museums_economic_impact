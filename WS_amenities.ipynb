{
 "cells": [
  {
   "cell_type": "code",
   "execution_count": 1,
   "metadata": {},
   "outputs": [],
   "source": [
    "import osmnx as ox\n",
    "from shapely.geometry import Point\n",
    "import geopandas as gpd\n",
    "import overpy\n",
    "from shapely.geometry import shape\n",
    "from shapely.geometry import Point\n",
    "import folium\n",
    "from folium import Choropleth, Circle, Marker, CircleMarker\n",
    "from folium.plugins import HeatMap, MarkerCluster\n",
    "\n",
    "import osmnx as ox\n",
    "\n",
    "import networkx as nx\n",
    "from matplotlib import pyplot as plt\n",
    "import numpy as np\n",
    "import pandas as pd\n",
    "\n",
    "import contextily as ctx\n",
    "\n",
    "import mplleaflet\n",
    "import matplotlib as mpl\n",
    "import matplotlib.cm as cm"
   ]
  },
  {
   "cell_type": "code",
   "execution_count": 39,
   "metadata": {},
   "outputs": [],
   "source": [
    "amenity_weights = {\n",
    "\"grocery\": [3],\n",
    "\"restaurants\": [.75, .45, .25, .25, .225, .225, .225, .225, .2, .2],\n",
    "\"shopping\": [.5, .45, .4, .35, .3], #clothing, shoes, gift shops, specialty food stores, children’s stores, etc.\n",
    "\"coffee\": [1.25, .75],\n",
    "\"banks\": [1],\n",
    "\"parks\": [1],\n",
    "\"schools\": [1],\n",
    "\"books\": [1],\n",
    "\"entertainment\": [1],\n",
    "}"
   ]
  },
  {
   "cell_type": "code",
   "execution_count": 42,
   "metadata": {},
   "outputs": [],
   "source": [
    "%matplotlib inline\n",
    "import matplotlib.colors as mcolors\n",
    "import warnings\n",
    "warnings.simplefilter(\"ignore\")\n"
   ]
  },
  {
   "cell_type": "code",
   "execution_count": 2,
   "metadata": {},
   "outputs": [],
   "source": [
    "import pandas as pd"
   ]
  },
  {
   "cell_type": "code",
   "execution_count": 4,
   "metadata": {},
   "outputs": [
    {
     "name": "stderr",
     "output_type": "stream",
     "text": [
      "C:\\Users\\Intra24\\Anaconda3\\lib\\site-packages\\IPython\\core\\interactiveshell.py:3058: DtypeWarning: Columns (12) have mixed types.Specify dtype option on import or set low_memory=False.\n",
      "  interactivity=interactivity, compiler=compiler, result=result)\n"
     ]
    }
   ],
   "source": [
    "df1=pd.read_csv(open(r'C:\\Users\\Intra24\\Desktop\\Glasgow_uni\\Dissertation and Smart Museums\\Moscow_datasets\\data-28509-2020-04-15.csv'))"
   ]
  },
  {
   "cell_type": "code",
   "execution_count": 12,
   "metadata": {
    "scrolled": true
   },
   "outputs": [
    {
     "data": {
      "text/plain": [
       "array(['Магазин «Промтовары»', 'Магазин-салон',\n",
       "       'Прочие специализированные непродовольственные предприятия торговли',\n",
       "       'Магазин «Ткани»', 'Магазин «Хозяйственные товары»',\n",
       "       'Магазин «Секонд Хенд»', 'Универмаг', 'Магазин «Цветы»',\n",
       "       'Магазин «Мебель»', 'Магазин «Обувь»', 'Товары для детей',\n",
       "       'Универмаг «Детский Мир»', 'Магазин «Одежда»',\n",
       "       'Магазин «Спорт и туризм»', 'Товары для женщин', 'Автосалон',\n",
       "       'Магазин «Зоотовары»', 'Магазин товаров повседневного спроса',\n",
       "       'Магазин «Мир садовода»', 'Комиссионный магазин',\n",
       "       'Магазин «Дисконт»', 'Магазин «Книги»', 'Магазин «Бутик»',\n",
       "       'Военторг', 'Минимаркет', 'Магазин-склад',\n",
       "       'Товары для новобрачных', 'Магазин «Семена»',\n",
       "       'Магазин «Электротовары»', 'Товары для дома', 'Магазин «Охотник»',\n",
       "       'Товары для будущих мам', 'Магазин «Дискаунтер»', 'Торговый Дом',\n",
       "       'Гипермаркет (непродовольственный)', 'Товары для полных',\n",
       "       'Товары для мужчин', 'Магазин «Природа»',\n",
       "       'Центр оптовой и мелкооптовой непродовольственной торговли',\n",
       "       'Стоковый магазин (магазин «Сток»)',\n",
       "       'Каскет (бутик для среднего класса)',\n",
       "       'С комбинированным ассортиментом',\n",
       "       'Универсальный общетоварный непродовольственный склад',\n",
       "       'Товары для молодежи', 'Аутлет-магазины',\n",
       "       'Торговые центры (аутлет-центр, молл, ритейл-парк)',\n",
       "       'Магазин-склад непродовольственный (опт)',\n",
       "       'Со смешанным ассортиментом', 'Магазин «Кэш энд Кэрри»'],\n",
       "      dtype=object)"
      ]
     },
     "execution_count": 12,
     "metadata": {},
     "output_type": "execute_result"
    }
   ],
   "source": [
    "df1[df1['TypeService']=='реализация непродовольственных товаров']['TypeObject'].unique()"
   ]
  },
  {
   "cell_type": "code",
   "execution_count": 7,
   "metadata": {},
   "outputs": [],
   "source": [
    "df_grocery=df1[df1['TypeService']=='реализация продовольственных товаров']\n",
    "\n",
    "df_malls=df1[df1['TypeObject']=='Торговые центры (аутлет-центр, молл, ритейл-парк)']\n",
    "\n",
    "df_shopping=df1[(df1['TypeObject'].isin([\n",
    "    'Торговые центры (аутлет-центр, молл, ритейл-парк)',\n",
    "    'Магазин-склад непродовольственный (опт)','Магазин-склад',\n",
    "    'Универсальный общетоварный непродовольственный склад' ])==False) &\n",
    "               (df1['TypeService']=='реализация продовольственных товаров')\n",
    "               ]"
   ]
  },
  {
   "cell_type": "code",
   "execution_count": 19,
   "metadata": {},
   "outputs": [],
   "source": [
    "df2=pd.read_csv(open(r'C:\\Users\\Intra24\\Desktop\\Glasgow_uni\\Dissertation and Smart Museums\\Moscow_datasets\\data-4275-2020-04-14.csv'))"
   ]
  },
  {
   "cell_type": "code",
   "execution_count": 21,
   "metadata": {
    "scrolled": true
   },
   "outputs": [
    {
     "data": {
      "text/plain": [
       "кафе                                 6513\n",
       "столовая                             2392\n",
       "ресторан                             2310\n",
       "предприятие быстрого обслуживания    2246\n",
       "бар                                  1043\n",
       "кафетерий                             624\n",
       "буфет                                 535\n",
       "закусочная                            438\n",
       "магазин (отдел кулинарии)             382\n",
       "Name: TypeObject, dtype: int64"
      ]
     },
     "execution_count": 21,
     "metadata": {},
     "output_type": "execute_result"
    }
   ],
   "source": [
    "df2['TypeObject'].value_counts()"
   ]
  },
  {
   "cell_type": "code",
   "execution_count": 27,
   "metadata": {},
   "outputs": [],
   "source": [
    "df_coffee=df2[df2['TypeObject'].isin(['кафе','кафетерий','буфет','закусочная'])]\n",
    "df_restaurant=df2[df2['TypeObject'].isin(['столовая','ресторан','предприятие быстрого обслуживания','бар'])]"
   ]
  },
  {
   "cell_type": "code",
   "execution_count": 29,
   "metadata": {},
   "outputs": [],
   "source": [
    "import geopandas as gpd"
   ]
  },
  {
   "cell_type": "code",
   "execution_count": 1,
   "metadata": {},
   "outputs": [
    {
     "ename": "NameError",
     "evalue": "name 'gpd' is not defined",
     "output_type": "error",
     "traceback": [
      "\u001b[1;31m---------------------------------------------------------------------------\u001b[0m",
      "\u001b[1;31mNameError\u001b[0m                                 Traceback (most recent call last)",
      "\u001b[1;32m<ipython-input-1-0f840cf08df2>\u001b[0m in \u001b[0;36m<module>\u001b[1;34m\u001b[0m\n\u001b[1;32m----> 1\u001b[1;33m \u001b[0mdf_attract\u001b[0m\u001b[1;33m=\u001b[0m\u001b[0mgpd\u001b[0m\u001b[1;33m.\u001b[0m\u001b[0mread_file\u001b[0m\u001b[1;33m(\u001b[0m\u001b[1;34mr'C:\\Users\\Intra24\\Desktop\\Glasgow_uni\\Group_project\\open_moscow.json'\u001b[0m\u001b[1;33m)\u001b[0m\u001b[1;33m\u001b[0m\u001b[1;33m\u001b[0m\u001b[0m\n\u001b[0m",
      "\u001b[1;31mNameError\u001b[0m: name 'gpd' is not defined"
     ]
    }
   ],
   "source": [
    "df_attract=gpd.read_file(r'C:\\Users\\Intra24\\Desktop\\Glasgow_uni\\Group_project\\open_moscow.json')"
   ]
  },
  {
   "cell_type": "code",
   "execution_count": 31,
   "metadata": {},
   "outputs": [
    {
     "data": {
      "text/html": [
       "<div>\n",
       "<style scoped>\n",
       "    .dataframe tbody tr th:only-of-type {\n",
       "        vertical-align: middle;\n",
       "    }\n",
       "\n",
       "    .dataframe tbody tr th {\n",
       "        vertical-align: top;\n",
       "    }\n",
       "\n",
       "    .dataframe thead th {\n",
       "        text-align: right;\n",
       "    }\n",
       "</style>\n",
       "<table border=\"1\" class=\"dataframe\">\n",
       "  <thead>\n",
       "    <tr style=\"text-align: right;\">\n",
       "      <th></th>\n",
       "      <th>index</th>\n",
       "      <th>properties</th>\n",
       "      <th>type</th>\n",
       "      <th>Caption</th>\n",
       "      <th>CategoryId</th>\n",
       "      <th>DepartmentId</th>\n",
       "      <th>dataset_id</th>\n",
       "      <th>geometry</th>\n",
       "    </tr>\n",
       "  </thead>\n",
       "  <tbody>\n",
       "    <tr>\n",
       "      <th>0</th>\n",
       "      <td>0</td>\n",
       "      <td>{'DatasetId': 495, 'VersionNumber': 3, 'Releas...</td>\n",
       "      <td>Feature</td>\n",
       "      <td>cinema</td>\n",
       "      <td>162</td>\n",
       "      <td>8</td>\n",
       "      <td>495</td>\n",
       "      <td>MULTIPOINT (37.57130 55.68281)</td>\n",
       "    </tr>\n",
       "    <tr>\n",
       "      <th>1</th>\n",
       "      <td>1</td>\n",
       "      <td>{'DatasetId': 495, 'VersionNumber': 3, 'Releas...</td>\n",
       "      <td>Feature</td>\n",
       "      <td>cinema</td>\n",
       "      <td>162</td>\n",
       "      <td>8</td>\n",
       "      <td>495</td>\n",
       "      <td>MULTIPOINT (37.71851 55.68587)</td>\n",
       "    </tr>\n",
       "  </tbody>\n",
       "</table>\n",
       "</div>"
      ],
      "text/plain": [
       "   index                                         properties     type Caption  \\\n",
       "0      0  {'DatasetId': 495, 'VersionNumber': 3, 'Releas...  Feature  cinema   \n",
       "1      1  {'DatasetId': 495, 'VersionNumber': 3, 'Releas...  Feature  cinema   \n",
       "\n",
       "   CategoryId  DepartmentId  dataset_id                        geometry  \n",
       "0         162             8         495  MULTIPOINT (37.57130 55.68281)  \n",
       "1         162             8         495  MULTIPOINT (37.71851 55.68587)  "
      ]
     },
     "execution_count": 31,
     "metadata": {},
     "output_type": "execute_result"
    }
   ],
   "source": [
    "df_attract.head(2)"
   ]
  },
  {
   "cell_type": "code",
   "execution_count": 35,
   "metadata": {},
   "outputs": [],
   "source": [
    "df_park=df_attract[df_attract['Caption'].isin(['park','botanic_garden','park_relax_zone'])]"
   ]
  },
  {
   "cell_type": "code",
   "execution_count": 36,
   "metadata": {},
   "outputs": [],
   "source": [
    "df_ped=df_attract[df_attract['Caption'].isin(['view_point','pedestrian_area'])]"
   ]
  },
  {
   "cell_type": "code",
   "execution_count": 40,
   "metadata": {},
   "outputs": [],
   "source": [
    "df_ent=df_attract[df_attract['Caption'].isin(['theatres','cinema','concert_venue'])]"
   ]
  },
  {
   "cell_type": "code",
   "execution_count": 41,
   "metadata": {},
   "outputs": [],
   "source": [
    "df_sport=df_attract[df_attract['Caption'].isin(['sport_ground','football_field','swimming pool', 'climbing_center',\n",
    "                                               'aquapark','regby_field','motor-racing circuit'])]"
   ]
  },
  {
   "cell_type": "code",
   "execution_count": null,
   "metadata": {},
   "outputs": [],
   "source": [
    "#добавить транспортную доступность"
   ]
  },
  {
   "cell_type": "code",
   "execution_count": 224,
   "metadata": {},
   "outputs": [],
   "source": [
    "df_rail=pd.read_csv(open(r'C:\\Users\\Intra24\\Desktop\\Glasgow_uni\\Dissertation and Smart Museums\\Moscow_datasets\\data-414-2020-03-20.csv'))"
   ]
  },
  {
   "cell_type": "code",
   "execution_count": 48,
   "metadata": {},
   "outputs": [],
   "source": [
    "df_bus_stations=pd.read_csv(open(r'C:\\Users\\Intra24\\Desktop\\Glasgow_uni\\Dissertation and Smart Museums\\Moscow_datasets\\bus_stations.csv'))"
   ]
  },
  {
   "cell_type": "code",
   "execution_count": 51,
   "metadata": {},
   "outputs": [],
   "source": [
    "df_metro_stations=pd.read_csv(open(r'C:\\Users\\Intra24\\Desktop\\Glasgow_uni\\Dissertation and Smart Museums\\Moscow_datasets\\metro_stations.csv'))"
   ]
  },
  {
   "cell_type": "code",
   "execution_count": 2,
   "metadata": {},
   "outputs": [],
   "source": [
    "df_schools=pd.read_csv(open(r'C:\\Users\\Intra24\\Desktop\\Glasgow_uni\\Dissertation and Smart Museums\\Moscow_datasets\\schools.csv'))"
   ]
  },
  {
   "cell_type": "code",
   "execution_count": 3,
   "metadata": {},
   "outputs": [],
   "source": [
    "df_uni=pd.read_csv(open(r'C:\\Users\\Intra24\\Desktop\\Glasgow_uni\\Dissertation and Smart Museums\\Moscow_datasets\\university.csv'))"
   ]
  },
  {
   "cell_type": "code",
   "execution_count": 4,
   "metadata": {},
   "outputs": [],
   "source": [
    "def convert_df_gdf(df,caption):\n",
    "    try:\n",
    "        df['geometry']=df.geoData.apply(lambda s: shape({'type':'Point','coordinates':[float(s[26:-2].split(',')[0]),float(s[26:-2].split(',')[1])]}))\n",
    "    except:\n",
    "        df['geometry']=df.geoData.apply(lambda s: shape({'type':'Point','coordinates':[float(s[19:-21].split(' , ')[0]),float(s[19:-21].split(' , ')[1])]}))\n",
    "  \n",
    "    df_new=df[['global_id','geometry']].copy()\n",
    "    df_new['Caption']=caption\n",
    "    return gpd.GeoDataFrame(df_new, geometry='geometry', crs='epsg:4326')"
   ]
  },
  {
   "cell_type": "code",
   "execution_count": 5,
   "metadata": {},
   "outputs": [],
   "source": [
    "gdf_uni=convert_df_gdf(df_uni,'university')"
   ]
  },
  {
   "cell_type": "code",
   "execution_count": 8,
   "metadata": {},
   "outputs": [
    {
     "data": {
      "text/plain": [
       "['ФГБОУ ВО «МГУТУ им. К.Г. Разумовского (ПКУ)»',\n",
       " 'Московский государственный университет имени М.В.Ломоносова;МГУ имени М.В.Ломоносова;Московский университет;МГУ',\n",
       " 'ФГБОУ ВО «МГУПП»;ФГБОУ ВО «Московский государственный университет пищевых производств»;Московский государственный университет пищевых производств;МГУПП',\n",
       " 'МГУУ Правительства Москвы;Университет Правительства Москвы']"
      ]
     },
     "execution_count": 8,
     "metadata": {},
     "output_type": "execute_result"
    }
   ],
   "source": []
  },
  {
   "cell_type": "code",
   "execution_count": 10,
   "metadata": {},
   "outputs": [
    {
     "data": {
      "text/html": [
       "<div>\n",
       "<style scoped>\n",
       "    .dataframe tbody tr th:only-of-type {\n",
       "        vertical-align: middle;\n",
       "    }\n",
       "\n",
       "    .dataframe tbody tr th {\n",
       "        vertical-align: top;\n",
       "    }\n",
       "\n",
       "    .dataframe thead th {\n",
       "        text-align: right;\n",
       "    }\n",
       "</style>\n",
       "<table border=\"1\" class=\"dataframe\">\n",
       "  <thead>\n",
       "    <tr style=\"text-align: right;\">\n",
       "      <th></th>\n",
       "      <th>global_id</th>\n",
       "      <th>ID</th>\n",
       "      <th>Code</th>\n",
       "      <th>FullName</th>\n",
       "      <th>ShortName</th>\n",
       "      <th>CommonName</th>\n",
       "      <th>AdmArea</th>\n",
       "      <th>District</th>\n",
       "      <th>ZipCode</th>\n",
       "      <th>Address</th>\n",
       "      <th>...</th>\n",
       "      <th>LicStatus</th>\n",
       "      <th>LicNum</th>\n",
       "      <th>LicDocSer</th>\n",
       "      <th>LicDocNum</th>\n",
       "      <th>LicDate</th>\n",
       "      <th>LicExp</th>\n",
       "      <th>TypeOfOwnership</th>\n",
       "      <th>Subord</th>\n",
       "      <th>geoData</th>\n",
       "      <th>geometry</th>\n",
       "    </tr>\n",
       "  </thead>\n",
       "  <tbody>\n",
       "    <tr>\n",
       "      <th>12</th>\n",
       "      <td>639894042</td>\n",
       "      <td>23</td>\n",
       "      <td>23</td>\n",
       "      <td>Федеральное государственное бюджетное образова...</td>\n",
       "      <td>ФГБОУ ВО «МГУТУ им. К.Г. Разумовского (ПКУ)»</td>\n",
       "      <td>МГУТУ им. Разумовского</td>\n",
       "      <td>Центральный административный округ</td>\n",
       "      <td>Таганский район</td>\n",
       "      <td>109004</td>\n",
       "      <td>город Москва, улица Земляной Вал, дом 73</td>\n",
       "      <td>...</td>\n",
       "      <td>Действует</td>\n",
       "      <td>1125</td>\n",
       "      <td>90Л01</td>\n",
       "      <td>8109</td>\n",
       "      <td>10.11.2014</td>\n",
       "      <td>бессрочно</td>\n",
       "      <td>государственное</td>\n",
       "      <td>Министерство науки и высшего образования Росси...</td>\n",
       "      <td>{type=Point, coordinates=[37.6560119564379, 55...</td>\n",
       "      <td>POINT (37.6560119564379 55.745986240524)</td>\n",
       "    </tr>\n",
       "    <tr>\n",
       "      <th>21</th>\n",
       "      <td>639894054</td>\n",
       "      <td>58</td>\n",
       "      <td>58</td>\n",
       "      <td>Федеральное государственное бюджетное образова...</td>\n",
       "      <td>Московский государственный университет имени М...</td>\n",
       "      <td>МГУ</td>\n",
       "      <td>Западный административный округ</td>\n",
       "      <td>район Раменки</td>\n",
       "      <td>119991</td>\n",
       "      <td>город Москва, территория Ленинские Горы, дом 1</td>\n",
       "      <td>...</td>\n",
       "      <td>Действует</td>\n",
       "      <td>1353</td>\n",
       "      <td>90Л01</td>\n",
       "      <td>8333</td>\n",
       "      <td>01.04.2015</td>\n",
       "      <td>бессрочно</td>\n",
       "      <td>государственное</td>\n",
       "      <td>Правительство Российской Федерации</td>\n",
       "      <td>{type=Point, coordinates=[37.530734, 55.702908...</td>\n",
       "      <td>POINT (37.530734 55.70290883)</td>\n",
       "    </tr>\n",
       "    <tr>\n",
       "      <th>77</th>\n",
       "      <td>639894816</td>\n",
       "      <td>165</td>\n",
       "      <td>165</td>\n",
       "      <td>Федеральное государственное бюджетное образова...</td>\n",
       "      <td>ФГБОУ ВО «МГУПП»;ФГБОУ ВО «Московский государс...</td>\n",
       "      <td>Пищевой</td>\n",
       "      <td>Северный административный округ</td>\n",
       "      <td>район Сокол</td>\n",
       "      <td>125080</td>\n",
       "      <td>город Москва, Волоколамское шоссе, дом 11, стр...</td>\n",
       "      <td>...</td>\n",
       "      <td>Действует</td>\n",
       "      <td>2531</td>\n",
       "      <td>90Л01</td>\n",
       "      <td>9606</td>\n",
       "      <td>08.02.2017</td>\n",
       "      <td>бессрочно</td>\n",
       "      <td>государственное</td>\n",
       "      <td>Министерство науки и высшего образования Росси...</td>\n",
       "      <td>{type=Point, coordinates=[37.4965741150206, 55...</td>\n",
       "      <td>POINT (37.4965741150206 55.8063825060204)</td>\n",
       "    </tr>\n",
       "    <tr>\n",
       "      <th>79</th>\n",
       "      <td>639894819</td>\n",
       "      <td>131</td>\n",
       "      <td>131</td>\n",
       "      <td>Государственное автономное образовательное учр...</td>\n",
       "      <td>МГУУ Правительства Москвы;Университет Правител...</td>\n",
       "      <td>МГУУ</td>\n",
       "      <td>Центральный административный округ</td>\n",
       "      <td>Красносельский район</td>\n",
       "      <td>107045</td>\n",
       "      <td>город Москва, улица Сретенка, дом 28</td>\n",
       "      <td>...</td>\n",
       "      <td>Действует</td>\n",
       "      <td>2886</td>\n",
       "      <td>90Л01</td>\n",
       "      <td>10019</td>\n",
       "      <td>26.03.2020</td>\n",
       "      <td>бессрочно</td>\n",
       "      <td>государственное</td>\n",
       "      <td>Правительство Москвы</td>\n",
       "      <td>{type=Point, coordinates=[37.6331731323614, 55...</td>\n",
       "      <td>POINT (37.6331731323614 55.7707953117105)</td>\n",
       "    </tr>\n",
       "  </tbody>\n",
       "</table>\n",
       "<p>4 rows × 38 columns</p>\n",
       "</div>"
      ],
      "text/plain": [
       "    global_id   ID  Code                                           FullName  \\\n",
       "12  639894042   23    23  Федеральное государственное бюджетное образова...   \n",
       "21  639894054   58    58  Федеральное государственное бюджетное образова...   \n",
       "77  639894816  165   165  Федеральное государственное бюджетное образова...   \n",
       "79  639894819  131   131  Государственное автономное образовательное учр...   \n",
       "\n",
       "                                            ShortName              CommonName  \\\n",
       "12       ФГБОУ ВО «МГУТУ им. К.Г. Разумовского (ПКУ)»  МГУТУ им. Разумовского   \n",
       "21  Московский государственный университет имени М...                     МГУ   \n",
       "77  ФГБОУ ВО «МГУПП»;ФГБОУ ВО «Московский государс...                 Пищевой   \n",
       "79  МГУУ Правительства Москвы;Университет Правител...                    МГУУ   \n",
       "\n",
       "                               AdmArea              District  ZipCode  \\\n",
       "12  Центральный административный округ       Таганский район   109004   \n",
       "21     Западный административный округ         район Раменки   119991   \n",
       "77     Северный административный округ           район Сокол   125080   \n",
       "79  Центральный административный округ  Красносельский район   107045   \n",
       "\n",
       "                                              Address  ...  LicStatus LicNum  \\\n",
       "12           город Москва, улица Земляной Вал, дом 73  ...  Действует   1125   \n",
       "21     город Москва, территория Ленинские Горы, дом 1  ...  Действует   1353   \n",
       "77  город Москва, Волоколамское шоссе, дом 11, стр...  ...  Действует   2531   \n",
       "79               город Москва, улица Сретенка, дом 28  ...  Действует   2886   \n",
       "\n",
       "   LicDocSer LicDocNum     LicDate     LicExp  TypeOfOwnership  \\\n",
       "12     90Л01      8109  10.11.2014  бессрочно  государственное   \n",
       "21     90Л01      8333  01.04.2015  бессрочно  государственное   \n",
       "77     90Л01      9606  08.02.2017  бессрочно  государственное   \n",
       "79     90Л01     10019  26.03.2020  бессрочно  государственное   \n",
       "\n",
       "                                               Subord  \\\n",
       "12  Министерство науки и высшего образования Росси...   \n",
       "21                 Правительство Российской Федерации   \n",
       "77  Министерство науки и высшего образования Росси...   \n",
       "79                               Правительство Москвы   \n",
       "\n",
       "                                              geoData  \\\n",
       "12  {type=Point, coordinates=[37.6560119564379, 55...   \n",
       "21  {type=Point, coordinates=[37.530734, 55.702908...   \n",
       "77  {type=Point, coordinates=[37.4965741150206, 55...   \n",
       "79  {type=Point, coordinates=[37.6331731323614, 55...   \n",
       "\n",
       "                                     geometry  \n",
       "12   POINT (37.6560119564379 55.745986240524)  \n",
       "21              POINT (37.530734 55.70290883)  \n",
       "77  POINT (37.4965741150206 55.8063825060204)  \n",
       "79  POINT (37.6331731323614 55.7707953117105)  \n",
       "\n",
       "[4 rows x 38 columns]"
      ]
     },
     "execution_count": 10,
     "metadata": {},
     "output_type": "execute_result"
    }
   ],
   "source": [
    "df_uni[df_uni['ShortName'].isin([i for i in df_uni['ShortName'] if 'МГУ' in i])]"
   ]
  },
  {
   "cell_type": "code",
   "execution_count": 81,
   "metadata": {},
   "outputs": [],
   "source": [
    "gdf_metro=convert_df_gdf(df_metro_stations,'metro')"
   ]
  },
  {
   "cell_type": "code",
   "execution_count": 204,
   "metadata": {},
   "outputs": [],
   "source": [
    "gdf_metro.merge(df_metro_stations[['global_id','NameOfStation']], on='global_id').to_csv('metro.csv')"
   ]
  },
  {
   "cell_type": "code",
   "execution_count": 211,
   "metadata": {},
   "outputs": [],
   "source": [
    "gdf_bus=convert_df_gdf(df_bus_stations,'bus')"
   ]
  },
  {
   "cell_type": "code",
   "execution_count": 213,
   "metadata": {},
   "outputs": [],
   "source": [
    "gdf_bus.to_file('gdf_bus.shp')"
   ]
  },
  {
   "cell_type": "code",
   "execution_count": 215,
   "metadata": {},
   "outputs": [],
   "source": [
    "gdf_rail=convert_df_gdf(df_rail,'rail')"
   ]
  },
  {
   "cell_type": "code",
   "execution_count": 223,
   "metadata": {},
   "outputs": [],
   "source": [
    "gdf_rail.to_file('gdf_rail1.shp')"
   ]
  },
  {
   "cell_type": "code",
   "execution_count": 115,
   "metadata": {},
   "outputs": [],
   "source": [
    "gdf_coffee=convert_df_gdf(df_coffee,'coffee')"
   ]
  },
  {
   "cell_type": "code",
   "execution_count": 114,
   "metadata": {},
   "outputs": [],
   "source": [
    "gdf_rests=convert_df_gdf(df_restaurant,'restaurants')\n"
   ]
  },
  {
   "cell_type": "code",
   "execution_count": 171,
   "metadata": {},
   "outputs": [],
   "source": [
    "gdf_grocery=convert_df_gdf(df_grocery,'grocery')\n",
    "gdf_shopping=convert_df_gdf(df_shopping,'shopping')\n",
    "gdf_malls=convert_df_gdf(df_malls,'mall')"
   ]
  },
  {
   "cell_type": "code",
   "execution_count": 109,
   "metadata": {},
   "outputs": [],
   "source": [
    "df_ent['Caption']='entertainment'\n",
    "df_park['Caption']='park'\n",
    "df_sport['Caption']='sport'\n",
    "df_ped['Caption']='ped_area'"
   ]
  },
  {
   "cell_type": "code",
   "execution_count": 117,
   "metadata": {},
   "outputs": [],
   "source": [
    "import requests"
   ]
  },
  {
   "cell_type": "code",
   "execution_count": 123,
   "metadata": {},
   "outputs": [],
   "source": [
    "api_key='a2327bd3ff5aceb690bbb7b3199bfddf'\n",
    "url='https://apidata.mos.ru/v1/features/2263/?api_key=%s'%(api_key)\n",
    "r = requests.get(url)"
   ]
  },
  {
   "cell_type": "code",
   "execution_count": 127,
   "metadata": {},
   "outputs": [],
   "source": [
    "gdf_schools=pd.DataFrame(r.json()['features'])"
   ]
  },
  {
   "cell_type": "code",
   "execution_count": 6,
   "metadata": {},
   "outputs": [
    {
     "ename": "NameError",
     "evalue": "name 'gdf_schools' is not defined",
     "output_type": "error",
     "traceback": [
      "\u001b[1;31m---------------------------------------------------------------------------\u001b[0m",
      "\u001b[1;31mNameError\u001b[0m                                 Traceback (most recent call last)",
      "\u001b[1;32m<ipython-input-6-2c4063dc0541>\u001b[0m in \u001b[0;36m<module>\u001b[1;34m\u001b[0m\n\u001b[1;32m----> 1\u001b[1;33m \u001b[0mgdf_schools\u001b[0m\u001b[1;33m[\u001b[0m\u001b[1;34m'geometry'\u001b[0m\u001b[1;33m]\u001b[0m\u001b[1;33m=\u001b[0m\u001b[0mgdf_schools\u001b[0m\u001b[1;33m[\u001b[0m\u001b[1;34m'geometry'\u001b[0m\u001b[1;33m]\u001b[0m\u001b[1;33m.\u001b[0m\u001b[0mapply\u001b[0m\u001b[1;33m(\u001b[0m\u001b[1;32mlambda\u001b[0m \u001b[0mx\u001b[0m\u001b[1;33m:\u001b[0m \u001b[0mshape\u001b[0m\u001b[1;33m(\u001b[0m\u001b[0mx\u001b[0m\u001b[1;33m)\u001b[0m\u001b[1;33m)\u001b[0m\u001b[1;33m\u001b[0m\u001b[1;33m\u001b[0m\u001b[0m\n\u001b[0m",
      "\u001b[1;31mNameError\u001b[0m: name 'gdf_schools' is not defined"
     ]
    }
   ],
   "source": [
    "gdf_schools['geometry']=gdf_schools['geometry'].apply(lambda x: shape(x))"
   ]
  },
  {
   "cell_type": "code",
   "execution_count": 146,
   "metadata": {},
   "outputs": [],
   "source": [
    "gdf_schools['global_id']=gdf_schools['properties'].apply(lambda x:x['Attributes']['LicensingAndAccreditation'][0]['LicenseNumber'])"
   ]
  },
  {
   "cell_type": "code",
   "execution_count": 149,
   "metadata": {},
   "outputs": [],
   "source": [
    "gdf_schools.drop(['properties','type'], axis=1, inplace=True)"
   ]
  },
  {
   "cell_type": "code",
   "execution_count": 151,
   "metadata": {},
   "outputs": [],
   "source": [
    "gdf_schools['Caption']='school'"
   ]
  },
  {
   "cell_type": "code",
   "execution_count": 165,
   "metadata": {},
   "outputs": [],
   "source": [
    "df_ped['global_id']=df_ped['properties'].apply(lambda x:x['Attributes']['global_id'])\n",
    "df_sport['global_id']=df_sport['properties'].apply(lambda x:x['Attributes']['global_id'])\n",
    "df_park['global_id']=df_park['properties'].apply(lambda x:x['Attributes']['global_id'])\n",
    "df_ent['global_id']=df_ent['properties'].apply(lambda x:x['Attributes']['global_id'])"
   ]
  },
  {
   "cell_type": "code",
   "execution_count": 208,
   "metadata": {},
   "outputs": [],
   "source": [
    "gdf_infrastructure=pd.concat([gdf_rail,\n",
    "                              gdf_schools,\n",
    "                              df_ped[['global_id','geometry','Caption']],df_sport[['global_id','geometry','Caption']],df_park[['global_id','geometry','Caption']],df_ent[['global_id','geometry','Caption']],\n",
    "                              gdf_rests,gdf_coffee,\n",
    "                              gdf_uni,\n",
    "                              #gdf_metro,\n",
    "                              gdf_bus,\n",
    "                              gdf_grocery,\n",
    "                              gdf_shopping,\n",
    "                              gdf_malls])"
   ]
  },
  {
   "cell_type": "code",
   "execution_count": 209,
   "metadata": {},
   "outputs": [
    {
     "data": {
      "text/plain": [
       "grocery          19173\n",
       "shopping         19135\n",
       "metro            12067\n",
       "coffee            8110\n",
       "restaurants       7991\n",
       "sport             4919\n",
       "park               937\n",
       "school             598\n",
       "university         277\n",
       "entertainment      116\n",
       "ped_area            26\n",
       "rail                 9\n",
       "mall                 3\n",
       "Name: Caption, dtype: int64"
      ]
     },
     "execution_count": 209,
     "metadata": {},
     "output_type": "execute_result"
    }
   ],
   "source": [
    "gdf_infrastructure['Caption'].value_counts()"
   ]
  },
  {
   "cell_type": "code",
   "execution_count": 178,
   "metadata": {},
   "outputs": [
    {
     "name": "stdout",
     "output_type": "stream",
     "text": [
      "rail\n"
     ]
    },
    {
     "data": {
      "image/png": "[encoded data removed]",
      "text/plain": [
       "<Figure size 432x288 with 1 Axes>"
      ]
     },
     "metadata": {
      "needs_background": "light"
     },
     "output_type": "display_data"
    },
    {
     "name": "stdout",
     "output_type": "stream",
     "text": [
      "school\n"
     ]
    },
    {
     "data": {
      "image/png": "[encoded data removed]",
      "text/plain": [
       "<Figure size 432x288 with 1 Axes>"
      ]
     },
     "metadata": {
      "needs_background": "light"
     },
     "output_type": "display_data"
    },
    {
     "name": "stdout",
     "output_type": "stream",
     "text": [
      "ped_area\n"
     ]
    },
    {
     "data": {
      "image/png": "[encoded data removed]",
      "text/plain": [
       "<Figure size 432x288 with 1 Axes>"
      ]
     },
     "metadata": {
      "needs_background": "light"
     },
     "output_type": "display_data"
    },
    {
     "name": "stdout",
     "output_type": "stream",
     "text": [
      "sport\n"
     ]
    },
    {
     "data": {
      "image/png": "[encoded data removed]",
      "text/plain": [
       "<Figure size 432x288 with 1 Axes>"
      ]
     },
     "metadata": {
      "needs_background": "light"
     },
     "output_type": "display_data"
    },
    {
     "name": "stdout",
     "output_type": "stream",
     "text": [
      "park\n"
     ]
    },
    {
     "data": {
      "image/png": "[encoded data removed]",
      "text/plain": [
       "<Figure size 432x288 with 1 Axes>"
      ]
     },
     "metadata": {
      "needs_background": "light"
     },
     "output_type": "display_data"
    },
    {
     "name": "stdout",
     "output_type": "stream",
     "text": [
      "entertainment\n"
     ]
    },
    {
     "data": {
      "image/png": "[encoded data removed]",
      "text/plain": [
       "<Figure size 432x288 with 1 Axes>"
      ]
     },
     "metadata": {
      "needs_background": "light"
     },
     "output_type": "display_data"
    },
    {
     "name": "stdout",
     "output_type": "stream",
     "text": [
      "restaurants\n"
     ]
    },
    {
     "data": {
      "image/png": "[encoded data removed]",
      "text/plain": [
       "<Figure size 432x288 with 1 Axes>"
      ]
     },
     "metadata": {
      "needs_background": "light"
     },
     "output_type": "display_data"
    },
    {
     "name": "stdout",
     "output_type": "stream",
     "text": [
      "coffee\n"
     ]
    },
    {
     "data": {
      "image/png": "[encoded data removed]",
      "text/plain": [
       "<Figure size 432x288 with 1 Axes>"
      ]
     },
     "metadata": {
      "needs_background": "light"
     },
     "output_type": "display_data"
    },
    {
     "name": "stdout",
     "output_type": "stream",
     "text": [
      "university\n"
     ]
    },
    {
     "data": {
      "image/png": "[encoded data removed]",
      "text/plain": [
       "<Figure size 432x288 with 1 Axes>"
      ]
     },
     "metadata": {
      "needs_background": "light"
     },
     "output_type": "display_data"
    },
    {
     "name": "stdout",
     "output_type": "stream",
     "text": [
      "metro\n"
     ]
    },
    {
     "data": {
      "image/png": "[encoded data removed]",
      "text/plain": [
       "<Figure size 432x288 with 1 Axes>"
      ]
     },
     "metadata": {
      "needs_background": "light"
     },
     "output_type": "display_data"
    },
    {
     "name": "stdout",
     "output_type": "stream",
     "text": [
      "grocery\n"
     ]
    },
    {
     "data": {
      "image/png": "[encoded data removed]",
      "text/plain": [
       "<Figure size 432x288 with 1 Axes>"
      ]
     },
     "metadata": {
      "needs_background": "light"
     },
     "output_type": "display_data"
    },
    {
     "name": "stdout",
     "output_type": "stream",
     "text": [
      "shopping\n"
     ]
    },
    {
     "data": {
      "image/png": "[encoded data removed]",
      "text/plain": [
       "<Figure size 432x288 with 1 Axes>"
      ]
     },
     "metadata": {
      "needs_background": "light"
     },
     "output_type": "display_data"
    },
    {
     "name": "stdout",
     "output_type": "stream",
     "text": [
      "mall\n"
     ]
    },
    {
     "data": {
      "image/png": "[encoded data removed]",
      "text/plain": [
       "<Figure size 432x288 with 1 Axes>"
      ]
     },
     "metadata": {
      "needs_background": "light"
     },
     "output_type": "display_data"
    }
   ],
   "source": [
    "for c in gdf_infrastructure['Caption'].unique():\n",
    "    print(c)\n",
    "    gdf_infrastructure[gdf_infrastructure['Caption']==c].plot()\n",
    "    plt.show()"
   ]
  },
  {
   "cell_type": "code",
   "execution_count": 196,
   "metadata": {},
   "outputs": [
    {
     "data": {
      "text/html": [
       "<div>\n",
       "<style scoped>\n",
       "    .dataframe tbody tr th:only-of-type {\n",
       "        vertical-align: middle;\n",
       "    }\n",
       "\n",
       "    .dataframe tbody tr th {\n",
       "        vertical-align: top;\n",
       "    }\n",
       "\n",
       "    .dataframe thead th {\n",
       "        text-align: right;\n",
       "    }\n",
       "</style>\n",
       "<table border=\"1\" class=\"dataframe\">\n",
       "  <thead>\n",
       "    <tr style=\"text-align: right;\">\n",
       "      <th></th>\n",
       "      <th>global_id</th>\n",
       "      <th>geometry</th>\n",
       "      <th>Caption</th>\n",
       "    </tr>\n",
       "  </thead>\n",
       "  <tbody>\n",
       "    <tr>\n",
       "      <th>0</th>\n",
       "      <td>0007051</td>\n",
       "      <td>POLYGON ((37.47932 55.78360, 37.47881 55.78369...</td>\n",
       "      <td>school</td>\n",
       "    </tr>\n",
       "    <tr>\n",
       "      <th>1</th>\n",
       "      <td>0009061</td>\n",
       "      <td>POLYGON ((37.67584 55.73946, 37.67558 55.73949...</td>\n",
       "      <td>school</td>\n",
       "    </tr>\n",
       "    <tr>\n",
       "      <th>2</th>\n",
       "      <td>0006430</td>\n",
       "      <td>MULTIPOLYGON (((37.71587 55.62107, 37.71575 55...</td>\n",
       "      <td>school</td>\n",
       "    </tr>\n",
       "    <tr>\n",
       "      <th>3</th>\n",
       "      <td>0007139</td>\n",
       "      <td>POLYGON ((37.73308 55.80328, 37.73345 55.80266...</td>\n",
       "      <td>school</td>\n",
       "    </tr>\n",
       "    <tr>\n",
       "      <th>4</th>\n",
       "      <td>0007734</td>\n",
       "      <td>POLYGON ((37.66742 55.60455, 37.66729 55.60468...</td>\n",
       "      <td>school</td>\n",
       "    </tr>\n",
       "    <tr>\n",
       "      <th>...</th>\n",
       "      <td>...</td>\n",
       "      <td>...</td>\n",
       "      <td>...</td>\n",
       "    </tr>\n",
       "    <tr>\n",
       "      <th>593</th>\n",
       "      <td>0007759</td>\n",
       "      <td>MULTIPOLYGON (((37.51463 55.65731, 37.51463 55...</td>\n",
       "      <td>school</td>\n",
       "    </tr>\n",
       "    <tr>\n",
       "      <th>594</th>\n",
       "      <td>0008128</td>\n",
       "      <td>MULTIPOLYGON (((37.68825 55.58150, 37.68841 55...</td>\n",
       "      <td>school</td>\n",
       "    </tr>\n",
       "    <tr>\n",
       "      <th>595</th>\n",
       "      <td>0007934</td>\n",
       "      <td>MULTIPOLYGON (((37.52289 55.72743, 37.52279 55...</td>\n",
       "      <td>school</td>\n",
       "    </tr>\n",
       "    <tr>\n",
       "      <th>596</th>\n",
       "      <td>0009540</td>\n",
       "      <td>POLYGON ((37.62068 55.60286, 37.62075 55.60297...</td>\n",
       "      <td>school</td>\n",
       "    </tr>\n",
       "    <tr>\n",
       "      <th>597</th>\n",
       "      <td>0007691</td>\n",
       "      <td>MULTIPOLYGON (((37.72367 55.62413, 37.72380 55...</td>\n",
       "      <td>school</td>\n",
       "    </tr>\n",
       "  </tbody>\n",
       "</table>\n",
       "<p>598 rows × 3 columns</p>\n",
       "</div>"
      ],
      "text/plain": [
       "    global_id                                           geometry Caption\n",
       "0     0007051  POLYGON ((37.47932 55.78360, 37.47881 55.78369...  school\n",
       "1     0009061  POLYGON ((37.67584 55.73946, 37.67558 55.73949...  school\n",
       "2     0006430  MULTIPOLYGON (((37.71587 55.62107, 37.71575 55...  school\n",
       "3     0007139  POLYGON ((37.73308 55.80328, 37.73345 55.80266...  school\n",
       "4     0007734  POLYGON ((37.66742 55.60455, 37.66729 55.60468...  school\n",
       "..        ...                                                ...     ...\n",
       "593   0007759  MULTIPOLYGON (((37.51463 55.65731, 37.51463 55...  school\n",
       "594   0008128  MULTIPOLYGON (((37.68825 55.58150, 37.68841 55...  school\n",
       "595   0007934  MULTIPOLYGON (((37.52289 55.72743, 37.52279 55...  school\n",
       "596   0009540  POLYGON ((37.62068 55.60286, 37.62075 55.60297...  school\n",
       "597   0007691  MULTIPOLYGON (((37.72367 55.62413, 37.72380 55...  school\n",
       "\n",
       "[598 rows x 3 columns]"
      ]
     },
     "execution_count": 196,
     "metadata": {},
     "output_type": "execute_result"
    }
   ],
   "source": [
    "gdf_infrastructure[gdf_infrastructure['Caption']=='school']"
   ]
  },
  {
   "cell_type": "code",
   "execution_count": 197,
   "metadata": {},
   "outputs": [],
   "source": [
    "gdf_infrastructure.to_file('moscow_insfrastructure.geojson', driver='GeoJSON')"
   ]
  },
  {
   "cell_type": "code",
   "execution_count": 3,
   "metadata": {},
   "outputs": [],
   "source": [
    "d=gpd.read_file('moscow_insfrastructure.geojson', driver='GeoJSON')"
   ]
  },
  {
   "cell_type": "code",
   "execution_count": 4,
   "metadata": {},
   "outputs": [
    {
     "data": {
      "text/plain": [
       "grocery          19173\n",
       "shopping         19135\n",
       "metro            13081\n",
       "coffee            8110\n",
       "restaurants       7991\n",
       "sport             4919\n",
       "park               937\n",
       "school             598\n",
       "university         277\n",
       "entertainment      116\n",
       "ped_area            26\n",
       "rail                 9\n",
       "mall                 3\n",
       "Name: Caption, dtype: int64"
      ]
     },
     "execution_count": 4,
     "metadata": {},
     "output_type": "execute_result"
    }
   ],
   "source": [
    "d['Caption'].value_counts()"
   ]
  }
 ],
 "metadata": {
  "kernelspec": {
   "display_name": "Python 3",
   "language": "python",
   "name": "python3"
  },
  "language_info": {
   "codemirror_mode": {
    "name": "ipython",
    "version": 3
   },
   "file_extension": ".py",
   "mimetype": "text/x-python",
   "name": "python",
   "nbconvert_exporter": "python",
   "pygments_lexer": "ipython3",
   "version": "3.7.4"
  }
 },
 "nbformat": 4,
 "nbformat_minor": 2
}
